{
 "cells": [
  {
   "cell_type": "code",
   "execution_count": 16,
   "id": "0a810085",
   "metadata": {},
   "outputs": [],
   "source": [
    "from typing import *"
   ]
  },
  {
   "cell_type": "markdown",
   "id": "c5987b6b",
   "metadata": {},
   "source": [
    "### Task1\n",
    "In this task, you have to check if all the numbers in list given in the input are the same.\n",
    "\n",
    "Input format: list of any objects. eg.:\n",
    " - [1,2,3,4] \n",
    " - ['red','blue']\n",
    " - [True]"
   ]
  },
  {
   "cell_type": "code",
   "execution_count": 4,
   "id": "66537cda",
   "metadata": {},
   "outputs": [],
   "source": [
    "def is_the_same(input_list: list[any]):\n",
    "    for i in range(len(input_list)-1):\n",
    "        if input_list[i] == input_list[i+1]:\n",
    "            continue\n",
    "        else:\n",
    "            return False\n",
    "    return True"
   ]
  },
  {
   "cell_type": "code",
   "execution_count": 5,
   "id": "4a26e9d1",
   "metadata": {},
   "outputs": [],
   "source": [
    "assert is_the_same([1,1,1]) == True\n",
    "assert is_the_same([1,2,1]) == False\n",
    "assert is_the_same([True]) == True\n",
    "assert is_the_same(['blue','blue']) == True\n",
    "assert is_the_same([2,'red']) == False"
   ]
  },
  {
   "cell_type": "markdown",
   "id": "252558d9",
   "metadata": {},
   "source": [
    "### Task2\n",
    "In this task, you have to return Woo[...]oow, where '[...]' is a multiple of 'o'.\n",
    "\n",
    "Input format: int number. eg.:\n",
    " - 1 output: Wow \n",
    " - 10 output: Woooooooooow\n",
    " - 2 output: Woow"
   ]
  },
  {
   "cell_type": "code",
   "execution_count": 11,
   "id": "62e8136e",
   "metadata": {},
   "outputs": [],
   "source": [
    "def wow(number: int):\n",
    "    o_number = 'o'*number\n",
    "    return f'W{o_number}w'"
   ]
  },
  {
   "cell_type": "code",
   "execution_count": 12,
   "id": "beb287f8",
   "metadata": {},
   "outputs": [],
   "source": [
    "assert wow(1) == 'Wow'\n",
    "assert wow(4) == 'Woooow'\n",
    "assert wow(0) == 'Ww'"
   ]
  },
  {
   "cell_type": "markdown",
   "id": "d4394bd9",
   "metadata": {},
   "source": [
    "### Task2.1\n",
    "In this task, you have to check, whether second one (called pattern) is a substring of the first one..\n",
    "\n",
    "Input format:str, str. eg.:\n",
    " - AABB , ABB output: 'YES'\n",
    " - AAABBB, BBBAAA output: 'NO'\n",
    " - AABBABA, BBAA output: 'NO"
   ]
  },
  {
   "cell_type": "code",
   "execution_count": 15,
   "id": "4de92923",
   "metadata": {},
   "outputs": [],
   "source": [
    "def check_pattern(sentence: str, pattern: str):\n",
    "    if pattern in sentence:\n",
    "        return 'YES'\n",
    "    return 'NO'"
   ]
  },
  {
   "cell_type": "code",
   "execution_count": 16,
   "id": "091ac07a",
   "metadata": {},
   "outputs": [],
   "source": [
    "assert check_pattern('AABBABA', 'BBAA') == 'NO'\n",
    "assert check_pattern('AAABBB','BBBAAA') == 'NO'\n",
    "assert check_pattern('AABB','ABB') == 'YES'"
   ]
  },
  {
   "cell_type": "markdown",
   "id": "817699e8",
   "metadata": {},
   "source": [
    "### Task3\n",
    "In this task, you have to return message with information which value is grater.\n",
    "\n",
    "Input format: int, int eg.:\n",
    " - 1 , 2 output: 1 is smaller than 2\n",
    " - -3, -5 output: -3  is greater than  -5\n",
    " - 0, 0 output: a is equal b:  0"
   ]
  },
  {
   "cell_type": "code",
   "execution_count": 23,
   "id": "cb8af6de",
   "metadata": {},
   "outputs": [],
   "source": [
    "def compare_two_numbers(a: int, b: int):\n",
    "    if a > b:\n",
    "        return f'{a} is greater than {b}'\n",
    "    elif a < b:\n",
    "        return f'{a} is smaller than {b}'\n",
    "    return f'a is equal b: {a-b}'"
   ]
  },
  {
   "cell_type": "code",
   "execution_count": 24,
   "id": "ea36d579",
   "metadata": {},
   "outputs": [],
   "source": [
    "assert compare_two_numbers(2,6) == '2 is smaller than 6'\n",
    "assert compare_two_numbers(4, -5) == '4 is greater than -5'\n",
    "assert compare_two_numbers(100,100) == 'a is equal b: 0'"
   ]
  },
  {
   "cell_type": "markdown",
   "id": "5388439b",
   "metadata": {},
   "source": [
    "### Task3\n",
    "In this task, you have to return sorted list in nondecreasing order.\n",
    "\n",
    "Input format: list of int, int eg.:\n",
    " - [3, 1, 3, 2] output: [1,2,3,3]\n",
    " - [0,0,0] output: [0,0,0]\n",
    " - [10,9,8,-10,-20,-30] output: [-30,-20,-10,8,9,10]"
   ]
  },
  {
   "cell_type": "code",
   "execution_count": 27,
   "id": "53d1ee20",
   "metadata": {},
   "outputs": [],
   "source": [
    "def sort_list(input_list: list[int]):\n",
    "    return sorted(input_list)"
   ]
  },
  {
   "cell_type": "code",
   "execution_count": 28,
   "id": "d8e42253",
   "metadata": {},
   "outputs": [],
   "source": [
    "assert sort_list([3, 1, 3, 2]) ==  [1,2,3,3]\n",
    "assert sort_list([0,0,0]) == [0,0,0]\n",
    "assert sort_list([10,9,8,-10,-20,-30]) ==  [-30,-20,-10,8,9,10]"
   ]
  },
  {
   "cell_type": "markdown",
   "id": "a173e0ca",
   "metadata": {},
   "source": [
    "### Task3.1\n",
    "In this task, you have to return sorted list of objects by age in nondecreasing order.\n",
    "\n",
    "Input format: list of int, int eg.:\n",
    " - [('Ania',20),('Monika',110),('Piotr',10)] output: [('Piotr',10),('Ania',20),('Monika',110)]\n",
    " - [('Ania',-10),('Monika',-110),('Piotr',210)] output: [('Monika',-110),('Ania',-10),('Piotr',210)]"
   ]
  },
  {
   "cell_type": "code",
   "execution_count": 37,
   "id": "2bf49ec4",
   "metadata": {},
   "outputs": [],
   "source": [
    "def sort_list(input_list: list[tuple]):\n",
    "    input_list.sort(key=lambda y: y[1])\n",
    "    return input_list"
   ]
  },
  {
   "cell_type": "code",
   "execution_count": 38,
   "id": "170ecd2b",
   "metadata": {},
   "outputs": [],
   "source": [
    "assert sort_list([('Ania',20),('Monika',110),('Piotr',10)]) == [('Piotr',10),('Ania',20),('Monika',110)]\n",
    "assert sort_list([('Ania',-10),('Monika',-110),('Piotr',210)]) == [('Monika',-110),('Ania',-10),('Piotr',210)]"
   ]
  },
  {
   "cell_type": "markdown",
   "id": "e50b856b",
   "metadata": {},
   "source": [
    "### Task4\n",
    "In this task, you have to return value of sum of integers of sublists that starts at index 'start' and ends at index 'end'.\n",
    "\n",
    "Input format: int, int, List[int] eg.:\n",
    " - 2, 4 , [1 2 3 4 5 6 7] output: 12\n",
    " - 1, 2, [10,11,12,10] output: 23"
   ]
  },
  {
   "cell_type": "code",
   "execution_count": 57,
   "id": "249fa756",
   "metadata": {},
   "outputs": [],
   "source": [
    "def sum_sublist(start: int, end: int, input_list: list[tuple]):\n",
    "    sublist = input_list[start:end+1]\n",
    "    return sum(sublist)"
   ]
  },
  {
   "cell_type": "code",
   "execution_count": 58,
   "id": "894e0ed4",
   "metadata": {},
   "outputs": [],
   "source": [
    "assert sum_sublist(1, 2, [10,11,12,10]) == 23\n",
    "assert sum_sublist(2, 4, [1, 2, 3, 4, 5, 6, 7]) == 12"
   ]
  },
  {
   "cell_type": "markdown",
   "id": "0c506cdd",
   "metadata": {},
   "source": [
    "### Task5\n",
    "In this task, you have to return given sentence without vovels.\n",
    "\n",
    "Input format: str eg.:\n",
    " - 'This is exemplary test case.' output: 'Ths s xmplr tst cs.'\n",
    " - 'Check this out i'm programmer!' output: 'Chck ths t 'm prgrmmr!"
   ]
  },
  {
   "cell_type": "code",
   "execution_count": 72,
   "id": "7f63abb5",
   "metadata": {},
   "outputs": [],
   "source": [
    "def no_vovels(sentence: str):\n",
    "    VOWELS = ('a', 'e', 'i', 'o', 'u', 'y', 'A', 'E', 'I', 'O', 'U', 'Y')\n",
    "    new_sentence = \"\"\n",
    "    for i in range(len(sentence)):\n",
    "        if sentence[i] not in VOWELS:\n",
    "            new_sentence = new_sentence + sentence[i]\n",
    "    print(new_sentence)\n",
    "    return new_sentence\n",
    "#    raise NotImplementedError"
   ]
  },
  {
   "cell_type": "code",
   "execution_count": 73,
   "id": "37681897",
   "metadata": {},
   "outputs": [
    {
     "name": "stdout",
     "output_type": "stream",
     "text": [
      "Ths s xmplr tst cs.\n",
      "Chck ths t 'm prgrmmr!\n"
     ]
    }
   ],
   "source": [
    "assert no_vovels('This is exemplary test case.') == 'Ths s xmplr tst cs.'\n",
    "assert no_vovels(\"Check this out i'm programmer!\") == \"Chck ths t 'm prgrmmr!\""
   ]
  },
  {
   "cell_type": "markdown",
   "id": "19b66af8",
   "metadata": {},
   "source": [
    "### Task6\n",
    "In this task, you have to return random int number form the given range.\n",
    "\n",
    "Input format: int, int eg.:\n",
    " - 2, 10 output: 9\n",
    " "
   ]
  },
  {
   "cell_type": "code",
   "execution_count": 75,
   "id": "1474ee38",
   "metadata": {},
   "outputs": [
    {
     "name": "stdout",
     "output_type": "stream",
     "text": [
      "3\n"
     ]
    }
   ],
   "source": [
    "import random\n",
    "\n",
    "def range_random_int(start:int, end:int):\n",
    "    return random.randrange(start, end)\n",
    "\n",
    "print(range_random_int(2,10))"
   ]
  },
  {
   "cell_type": "markdown",
   "id": "b04dfdc8",
   "metadata": {},
   "source": [
    "### Task6.1\n",
    "In this task, you have to return given list with random order.\n",
    "\n",
    "Input format: list[any] eg.:\n",
    " - [1,2,3,4] output: [4,2,1,3]\n",
    " "
   ]
  },
  {
   "cell_type": "code",
   "execution_count": 81,
   "id": "c81855b2",
   "metadata": {},
   "outputs": [
    {
     "data": {
      "text/plain": [
       "[4, 3, 1, 2]"
      ]
     },
     "execution_count": 81,
     "metadata": {},
     "output_type": "execute_result"
    }
   ],
   "source": [
    "import random\n",
    "\n",
    "def random_order(input_list:list):\n",
    "    random.shuffle(input_list)\n",
    "\n",
    "lst = [1, 2, 3, 4]\n",
    "random_order(lst)\n",
    "lst"
   ]
  },
  {
   "cell_type": "markdown",
   "id": "4a25a230",
   "metadata": {},
   "source": [
    "### Task6.2\n",
    "In this task, you have to write \"Warm/Cold\" game:.\n",
    "\n",
    "\n",
    "At the beginning the program randomly select a number in the range from 1 to 50,\n",
    "It then asks the user for a number, depending on whether the given number is less than the number selected by the program, a different message is returned."
   ]
  },
  {
   "cell_type": "code",
   "execution_count": 82,
   "id": "1d87e32b",
   "metadata": {},
   "outputs": [],
   "source": [
    "# This game have been written in gra_ciepla_zimno.py"
   ]
  },
  {
   "cell_type": "markdown",
   "id": "567a69ed",
   "metadata": {},
   "source": [
    "> Hint : input()"
   ]
  },
  {
   "cell_type": "markdown",
   "id": "5a19f264",
   "metadata": {},
   "source": [
    "### Task7\n",
    " Write a program in Python to check if a sequence is a Palindrome.\n",
    " \n",
    " eg. \n",
    " - \"oko\" is a Palidrome\n",
    " - \"potop\" is a Palidrome\n",
    " - \"kajaki\" is not a Palidrome \n",
    " "
   ]
  },
  {
   "cell_type": "code",
   "execution_count": 83,
   "id": "d558f2a1",
   "metadata": {},
   "outputs": [],
   "source": [
    "def is_palindrome(sentence:str):\n",
    "    reverse_str = sentence[::-1]\n",
    "    if sentence == reverse_str:\n",
    "        return True\n",
    "    return False"
   ]
  },
  {
   "cell_type": "code",
   "execution_count": 84,
   "id": "4bb249f2",
   "metadata": {},
   "outputs": [],
   "source": [
    "assert is_palindrome(\"oko\") == True\n",
    "assert is_palindrome(\"potop\") == True\n",
    "assert is_palindrome(\"kajaki\") == False"
   ]
  },
  {
   "cell_type": "markdown",
   "id": "13fc206b",
   "metadata": {},
   "source": [
    "### Task7\n",
    "Write a function that will open a given txt file, and then return information about how many words, vowels, and spaces it has. The result is to be saved as a dict.\n",
    "\n",
    "Example output:\n",
    "```\n",
    "{\n",
    "    'words': 201,\n",
    "    'vovels': 3000,\n",
    "    'spaces':12412\n",
    "}\n",
    "```\n"
   ]
  },
  {
   "cell_type": "code",
   "execution_count": 86,
   "id": "6533279c",
   "metadata": {},
   "outputs": [
    {
     "name": "stdout",
     "output_type": "stream",
     "text": [
      "{'words': 76, 'vowels': 167, 'spaces': 68}\n"
     ]
    }
   ],
   "source": [
    "def sentence_statistics(name_of_file:str):\n",
    "    VOWELS = ('a', 'e', 'i', 'o', 'u', 'y', 'A', 'E', 'I', 'O', 'U', 'Y')\n",
    "    words = 0\n",
    "    vowels = 0\n",
    "    spaces = 0\n",
    "    \n",
    "    with open(name_of_file, 'r') as f:\n",
    "        for line in f:\n",
    "            # counts words\n",
    "            lst_words = line.split(' ')\n",
    "            words += len(lst_words)\n",
    "            # counts spaces\n",
    "            spaces += line.count(\" \")\n",
    "            for i in range(len(line)):\n",
    "                if line[i] in VOWELS:\n",
    "                    vowels += 1\n",
    "                    \n",
    "    statistics_dict = {\n",
    "        'words' : words,\n",
    "        'vowels' : vowels,\n",
    "        'spaces' : spaces\n",
    "    }\n",
    "    \n",
    "    return statistics_dict\n",
    "\n",
    "print(sentence_statistics('data/sample.txt'))"
   ]
  }
 ],
 "metadata": {
  "kernelspec": {
   "display_name": "Python 3 (ipykernel)",
   "language": "python",
   "name": "python3"
  },
  "language_info": {
   "codemirror_mode": {
    "name": "ipython",
    "version": 3
   },
   "file_extension": ".py",
   "mimetype": "text/x-python",
   "name": "python",
   "nbconvert_exporter": "python",
   "pygments_lexer": "ipython3",
   "version": "3.10.4"
  }
 },
 "nbformat": 4,
 "nbformat_minor": 5
}
